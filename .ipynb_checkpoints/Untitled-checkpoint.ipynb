{
 "cells": [
  {
   "cell_type": "code",
   "execution_count": 1,
   "id": "ca127f2f",
   "metadata": {},
   "outputs": [],
   "source": [
    "import cv2\n",
    "import cvzone\n",
    "from cvzone.HandTrackingModule import HandDetector \n",
    "import time as timeVal\n",
    "import random"
   ]
  },
  {
   "cell_type": "code",
   "execution_count": 2,
   "id": "9f002651",
   "metadata": {},
   "outputs": [
    {
     "data": {
      "text/plain": [
       "True"
      ]
     },
     "execution_count": 2,
     "metadata": {},
     "output_type": "execute_result"
    }
   ],
   "source": [
    "cap = cv2.VideoCapture(0)\n",
    "cap.set(3, 640)\n",
    "cap.set(4, 480)"
   ]
  },
  {
   "cell_type": "code",
   "execution_count": 3,
   "id": "9a7c3999",
   "metadata": {},
   "outputs": [],
   "source": [
    "detector = HandDetector(maxHands=1)"
   ]
  },
  {
   "cell_type": "code",
   "execution_count": 4,
   "id": "3617ec24-f557-46a4-8779-c0764f9d6e8c",
   "metadata": {},
   "outputs": [],
   "source": [
    "timer = 0\n",
    "stateResult = False\n",
    "startGame = False\n",
    "scores = [0,0] #AI PLAYER"
   ]
  },
  {
   "cell_type": "code",
   "execution_count": null,
   "id": "b034616b",
   "metadata": {},
   "outputs": [],
   "source": [
    "while True:\n",
    "    imgBG = cv2.imread(\"Resources/BG.png\")\n",
    "    success, img = cap.read()\n",
    "    \n",
    "    imgScaled = cv2.resize(img, (0, 0), None, 0.875, 0.875)\n",
    "    imgScaled = imgScaled[:,80:480]\n",
    "    \n",
    "    #find hands\n",
    "    hands, img = detector.findHands(imgScaled)\n",
    "\n",
    "    if startGame:\n",
    "        if stateResult is False:\n",
    "            timer = timeVal.time() - initialTime\n",
    "            cv2.putText(imgBG, str(int(timer)),(605,435), cv2.FONT_HERSHEY_PLAIN, 6, (255,0,255),4)\n",
    "            \n",
    "            if timer>3:\n",
    "                stateResult = True\n",
    "                timer = 0\n",
    "                \n",
    "                if hands:\n",
    "                    hand = hands[0]\n",
    "                    fingers = detector.fingersUp(hand)\n",
    "                    print(fingers)\n",
    "                    \n",
    "                    if fingers == [0,0,0,0,0]:\n",
    "                        playerMove = 1\n",
    "                    if fingers == [1,1,1,1,1]:\n",
    "                        playerMove = 2\n",
    "                    if fingers == [0,1,1,0,0]:\n",
    "                        playerMove = 3\n",
    "\n",
    "                    randomNumber = random.randint(1,3)\n",
    "                    imgAI = cv2.imread(f\"Resources/{randomNumber}.png\",cv2.IMREAD_UNCHANGED)\n",
    "                    imgBG = cvzone.overlayPNG(imgBG, imgAI, (149,310))\n",
    "\n",
    "                    #Player wins\n",
    "                    if(playerMove == 1 and randomNumber == 3) or (playerMove == 2 and randomNumber == 1) or (playerMove == 3 and randomNumber == 2):\n",
    "                        scores[1] += 1\n",
    "\n",
    "                    #AI wins\n",
    "                    if(playerMove == 3 and randomNumber == 1) or (playerMove == 1 and randomNumber == 2) or (playerMove == 2 and randomNumber == 3):\n",
    "                        scores[0] += 1\n",
    "                        \n",
    "                    \n",
    "                    print(playerMove)\n",
    "                    \n",
    "            \n",
    "    imgBG[234:654,795:1195] = imgScaled\n",
    "\n",
    "    if stateResult:\n",
    "        imgBG = cvzone.overlayPNG(imgBG, imgAI, (149,310))\n",
    "\n",
    "    cv2.putText(imgBG, str(scores[0]),(410, 215), cv2.FONT_HERSHEY_PLAIN, 4, (255,255,255),6)\n",
    "    cv2.putText(imgBG, str(scores[1]),(1112, 215), cv2.FONT_HERSHEY_PLAIN, 4, (255,255,255),6)\n",
    "    \n",
    "    #cv2.imshow(\"Image\",img)\n",
    "    cv2.imshow(\"Background image\",imgBG)\n",
    "    #cv2.imshow(\"Scaled\", imgScaled)\n",
    "    \n",
    "    key = cv2.waitKey(1)\n",
    "    if key == ord('s'): \n",
    "        startGame = True\n",
    "        initialTime = timeVal.time()\n",
    "        stateResult = False\n",
    "      \n"
   ]
  },
  {
   "cell_type": "code",
   "execution_count": null,
   "id": "6cce248c-6b2c-4a25-bc62-b95381fd6b12",
   "metadata": {},
   "outputs": [],
   "source": []
  },
  {
   "cell_type": "code",
   "execution_count": null,
   "id": "187379fe-9a11-4405-9697-2b4e2f3711da",
   "metadata": {},
   "outputs": [],
   "source": []
  }
 ],
 "metadata": {
  "kernelspec": {
   "display_name": "Python 3 (ipykernel)",
   "language": "python",
   "name": "python3"
  },
  "language_info": {
   "codemirror_mode": {
    "name": "ipython",
    "version": 3
   },
   "file_extension": ".py",
   "mimetype": "text/x-python",
   "name": "python",
   "nbconvert_exporter": "python",
   "pygments_lexer": "ipython3",
   "version": "3.12.4"
  }
 },
 "nbformat": 4,
 "nbformat_minor": 5
}
